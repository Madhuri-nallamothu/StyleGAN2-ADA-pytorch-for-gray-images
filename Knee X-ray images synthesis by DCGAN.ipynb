{
  "cells": [
    {
      "cell_type": "code",
      "metadata": {
        "colab": {
          "base_uri": "https://localhost:8080/"
        },
        "id": "5WZe78Ax7n-5",
        "outputId": "7d9a406b-ab69-484f-d6b1-19e51a5cc35c"
      },
      "source": [
        "# Knee Radigoraphy images synthesis by DC GAN\n",
        "import torch\n",
        "print(torch.cuda.is_available())  # Should return True\n",
        "print(torch.cuda.get_device_name(0))  # Shows GPU name\n",
        "\n"
      ],
      "execution_count": null,
      "outputs": [
        {
          "output_type": "stream",
          "name": "stdout",
          "text": [
            "True\n",
            "Tesla T4\n"
          ]
        }
      ]
    },
    {
      "cell_type": "code",
      "source": [
        "!git clone https://github.com/gunahn/StyleGAN2-ADA-pytorch-for-gray-images.git\n"
      ],
      "metadata": {
        "colab": {
          "base_uri": "https://localhost:8080/"
        },
        "id": "eGPDARvRdXJP",
        "outputId": "16afb64b-f6d6-46ae-cffa-c3f718ecffb0"
      },
      "execution_count": null,
      "outputs": [
        {
          "output_type": "stream",
          "name": "stdout",
          "text": [
            "fatal: destination path 'StyleGAN2-ADA-pytorch-for-gray-images' already exists and is not an empty directory.\n"
          ]
        }
      ]
    },
    {
      "cell_type": "code",
      "source": [
        "\n",
        "cd StyleGAN2-ADA-pytorch-for-gray-images\n"
      ],
      "metadata": {
        "colab": {
          "base_uri": "https://localhost:8080/"
        },
        "id": "nVEbRkVXdhAV",
        "outputId": "f06d8bdc-1a30-4a98-ff01-1498774c52d4"
      },
      "execution_count": null,
      "outputs": [
        {
          "output_type": "stream",
          "name": "stdout",
          "text": [
            "/content/StyleGAN2-ADA-pytorch-for-gray-images\n"
          ]
        }
      ]
    },
    {
      "cell_type": "code",
      "source": [
        "!pip install torch torchvision numpy tqdm\n"
      ],
      "metadata": {
        "colab": {
          "base_uri": "https://localhost:8080/"
        },
        "id": "tYzFeUnidj8-",
        "outputId": "425f4d34-8ab6-4f00-a438-d2b616849108"
      },
      "execution_count": null,
      "outputs": [
        {
          "output_type": "stream",
          "name": "stdout",
          "text": [
            "Requirement already satisfied: torch in /usr/local/lib/python3.11/dist-packages (2.5.1+cu124)\n",
            "Requirement already satisfied: torchvision in /usr/local/lib/python3.11/dist-packages (0.20.1+cu124)\n",
            "Requirement already satisfied: numpy in /usr/local/lib/python3.11/dist-packages (1.26.4)\n",
            "Requirement already satisfied: tqdm in /usr/local/lib/python3.11/dist-packages (4.67.1)\n",
            "Requirement already satisfied: filelock in /usr/local/lib/python3.11/dist-packages (from torch) (3.17.0)\n",
            "Requirement already satisfied: typing-extensions>=4.8.0 in /usr/local/lib/python3.11/dist-packages (from torch) (4.12.2)\n",
            "Requirement already satisfied: networkx in /usr/local/lib/python3.11/dist-packages (from torch) (3.4.2)\n",
            "Requirement already satisfied: jinja2 in /usr/local/lib/python3.11/dist-packages (from torch) (3.1.5)\n",
            "Requirement already satisfied: fsspec in /usr/local/lib/python3.11/dist-packages (from torch) (2024.10.0)\n",
            "Collecting nvidia-cuda-nvrtc-cu12==12.4.127 (from torch)\n",
            "  Using cached nvidia_cuda_nvrtc_cu12-12.4.127-py3-none-manylinux2014_x86_64.whl.metadata (1.5 kB)\n",
            "Collecting nvidia-cuda-runtime-cu12==12.4.127 (from torch)\n",
            "  Using cached nvidia_cuda_runtime_cu12-12.4.127-py3-none-manylinux2014_x86_64.whl.metadata (1.5 kB)\n",
            "Collecting nvidia-cuda-cupti-cu12==12.4.127 (from torch)\n",
            "  Using cached nvidia_cuda_cupti_cu12-12.4.127-py3-none-manylinux2014_x86_64.whl.metadata (1.6 kB)\n",
            "Collecting nvidia-cudnn-cu12==9.1.0.70 (from torch)\n",
            "  Using cached nvidia_cudnn_cu12-9.1.0.70-py3-none-manylinux2014_x86_64.whl.metadata (1.6 kB)\n",
            "Collecting nvidia-cublas-cu12==12.4.5.8 (from torch)\n",
            "  Using cached nvidia_cublas_cu12-12.4.5.8-py3-none-manylinux2014_x86_64.whl.metadata (1.5 kB)\n",
            "Collecting nvidia-cufft-cu12==11.2.1.3 (from torch)\n",
            "  Using cached nvidia_cufft_cu12-11.2.1.3-py3-none-manylinux2014_x86_64.whl.metadata (1.5 kB)\n",
            "Collecting nvidia-curand-cu12==10.3.5.147 (from torch)\n",
            "  Using cached nvidia_curand_cu12-10.3.5.147-py3-none-manylinux2014_x86_64.whl.metadata (1.5 kB)\n",
            "Collecting nvidia-cusolver-cu12==11.6.1.9 (from torch)\n",
            "  Using cached nvidia_cusolver_cu12-11.6.1.9-py3-none-manylinux2014_x86_64.whl.metadata (1.6 kB)\n",
            "Collecting nvidia-cusparse-cu12==12.3.1.170 (from torch)\n",
            "  Using cached nvidia_cusparse_cu12-12.3.1.170-py3-none-manylinux2014_x86_64.whl.metadata (1.6 kB)\n",
            "Requirement already satisfied: nvidia-nccl-cu12==2.21.5 in /usr/local/lib/python3.11/dist-packages (from torch) (2.21.5)\n",
            "Requirement already satisfied: nvidia-nvtx-cu12==12.4.127 in /usr/local/lib/python3.11/dist-packages (from torch) (12.4.127)\n",
            "Collecting nvidia-nvjitlink-cu12==12.4.127 (from torch)\n",
            "  Using cached nvidia_nvjitlink_cu12-12.4.127-py3-none-manylinux2014_x86_64.whl.metadata (1.5 kB)\n",
            "Requirement already satisfied: triton==3.1.0 in /usr/local/lib/python3.11/dist-packages (from torch) (3.1.0)\n",
            "Requirement already satisfied: sympy==1.13.1 in /usr/local/lib/python3.11/dist-packages (from torch) (1.13.1)\n",
            "Requirement already satisfied: mpmath<1.4,>=1.1.0 in /usr/local/lib/python3.11/dist-packages (from sympy==1.13.1->torch) (1.3.0)\n",
            "Requirement already satisfied: pillow!=8.3.*,>=5.3.0 in /usr/local/lib/python3.11/dist-packages (from torchvision) (11.1.0)\n",
            "Requirement already satisfied: MarkupSafe>=2.0 in /usr/local/lib/python3.11/dist-packages (from jinja2->torch) (3.0.2)\n",
            "Using cached nvidia_cublas_cu12-12.4.5.8-py3-none-manylinux2014_x86_64.whl (363.4 MB)\n"
          ]
        }
      ]
    },
    {
      "cell_type": "code",
      "source": [
        "!pip install -r StyleGAN2-ADA-pytorch-for-gray-images/requirements.txt"
      ],
      "metadata": {
        "id": "_AA9qh78duWx"
      },
      "execution_count": null,
      "outputs": []
    },
    {
      "cell_type": "code",
      "source": [
        "!pip install dlib opencv-python"
      ],
      "metadata": {
        "id": "ahbY7T9Ndvpm"
      },
      "execution_count": null,
      "outputs": []
    },
    {
      "cell_type": "code",
      "source": [
        "from google.colab import drive"
      ],
      "metadata": {
        "id": "H1WTGx-4Vsx3"
      },
      "execution_count": null,
      "outputs": []
    },
    {
      "cell_type": "code",
      "source": [
        "drive.mount('/content/drive')"
      ],
      "metadata": {
        "id": "s_ZE71PMV38q"
      },
      "execution_count": null,
      "outputs": []
    },
    {
      "cell_type": "code",
      "source": [
        "if os.path.exists(\"/content/drive/My Drive\"):\n",
        "    print(\"Google Drive is already mounted.\")\n",
        "else:\n",
        "    from google.colab import drive\n",
        "    drive.mount(\"/content/drive\")"
      ],
      "metadata": {
        "id": "x-RYDEhLZvpc"
      },
      "execution_count": null,
      "outputs": []
    },
    {
      "cell_type": "code",
      "execution_count": null,
      "metadata": {
        "id": "hS9y3Dw8cv2V"
      },
      "outputs": [],
      "source": [
        "exp_date = \"0407\"\n",
        "print(exp_date)"
      ]
    },
    {
      "cell_type": "code",
      "execution_count": null,
      "metadata": {
        "id": "Ilsl2Cu8cv2V"
      },
      "outputs": [],
      "source": [
        "#%matplotlib inline\n",
        "from IPython.display import HTML\n",
        "import argparse\n",
        "import os\n",
        "import random\n",
        "import torch\n",
        "from torch import nn\n",
        "import torch.nn.parallel\n",
        "import torch.backends.cudnn as cudnn\n",
        "import torch.optim as optim\n",
        "import torch.utils.data\n",
        "\n",
        "from torchvision import datasets,transforms, utils\n",
        "\n",
        "from torch import tensor\n",
        "\n",
        "import numpy as np\n",
        "import matplotlib.pyplot as plt\n",
        "import matplotlib.animation as animation\n",
        "from __future__ import print_function\n",
        "\n",
        "# Set random seem for reproducibility\n",
        "#manualSeed = random.randint(1, 10000) # use if you want new results\n",
        "manualSeed = 999\n",
        "\n",
        "print(\"Random Seed: \", manualSeed)\n",
        "random.seed(manualSeed)\n",
        "torch.manual_seed(manualSeed)\n",
        "%matplotlib inline\n",
        "resol = 512\n",
        "\n",
        "grade = 'new'\n",
        "\n",
        "print (\"resol:\",resol)\n",
        "print (\"grade:\",grade)"
      ]
    },
    {
      "cell_type": "markdown",
      "metadata": {
        "id": "GSaZLwhgcv2W"
      },
      "source": [
        "# Image pre-processing"
      ]
    },
    {
      "cell_type": "markdown",
      "metadata": {
        "id": "gvuocluRcv2X"
      },
      "source": [
        "import glob\n",
        "import cv2\n",
        "target = 0\n",
        "n= 0\n",
        "clahe = cv2.createCLAHE(clipLimit=2.0, tileGridSize=(2,2))\n",
        "for target in range(5):\n",
        "    for path in sorted(glob.glob(f'./new_images/{target}/{target}/*.png')):\n",
        "        filename = path.split('/')[-1]\n",
        "   \n",
        "        imageA = cv2.imread(f'new_images/{target}/{target}/{filename}').astype('uint8')\n",
        "   \n",
        "        grayA = cv2.cvtColor(imageA, cv2.COLOR_BGR2GRAY)\n",
        "   \n",
        "        # preprocess image\n",
        "        image = clahe.apply(cv2.equalizeHist(grayA))\n",
        "   \n",
        "        plt.imsave(f'processed/{target}/{target}/{filename}', image, cmap='gray')\n",
        "        n=+1\n",
        "        if n% 1000 ==0:\n",
        "            print(1000)"
      ]
    },
    {
      "cell_type": "code",
      "execution_count": null,
      "metadata": {
        "id": "_lUOVfYYcv2Y"
      },
      "outputs": [],
      "source": [
        "# Root directory for dataset\n",
        "\n",
        "\n",
        "dataroot = \"/content/drive/MyDrive/MedicalExpert-I\"\n",
        "\n",
        "# Number of workers for dataloader\n",
        "workers = 2\n",
        "\n",
        "# Batch size during training\n",
        "batch_size = 128\n",
        "\n",
        "# Spatial size of training images. All images will be resized to this\n",
        "#   size using a transformer.\n",
        "image_size = 512\n",
        "\n",
        "# Number of channels in the training images. For color images this is 3\n",
        "nc = 3\n",
        "\n",
        "# Size of z latent vector (i.e. size of generator input)\n",
        "nz = 100\n",
        "\n",
        "# Size of feature maps in generator\n",
        "ngf = 16\n",
        "\n",
        "# Size of feature maps in discriminator\n",
        "ndf = 16\n",
        "\n",
        "# Number of training epochs\n",
        "num_epochs = 500\n",
        "\n",
        "# Learning rate for optimizers\n",
        "lr = 0.0002\n",
        "\n",
        "# Beta1 hyperparam for Adam optimizers\n",
        "beta1 = 0.5\n",
        "\n",
        "# Number of GPUs available. Use 0 for CPU mode.\n",
        "ngpu = 2"
      ]
    },
    {
      "cell_type": "code",
      "source": [
        "dataroot = \"/content/drive/MyDrive/MedicalExpert-I\"  # Ensure this path is correct\n",
        "print(\"Directory exists:\", os.path.exists(dataroot))"
      ],
      "metadata": {
        "id": "NFKRSlqYdPa2"
      },
      "execution_count": null,
      "outputs": []
    },
    {
      "cell_type": "code",
      "source": [
        "from torchvision import datasets, transforms"
      ],
      "metadata": {
        "id": "pIsG2CBCPmRn"
      },
      "execution_count": null,
      "outputs": []
    },
    {
      "cell_type": "code",
      "source": [],
      "metadata": {
        "id": "VL8C22tmPn0R"
      },
      "execution_count": null,
      "outputs": []
    },
    {
      "cell_type": "markdown",
      "metadata": {
        "id": "mjTPCgAL7n-_"
      },
      "source": [
        "Data\n",
        "----\n",
        "\n",
        "\n",
        "\n",
        "\n"
      ]
    },
    {
      "cell_type": "code",
      "execution_count": null,
      "metadata": {
        "id": "6aL3SD7E7n-_"
      },
      "outputs": [],
      "source": [
        "# We can use an image folder dataset the way we have it setup.\n",
        "# Create the dataset\n",
        "\n",
        "dataset = datasets.ImageFolder(root=dataroot,\n",
        "                           transform=transforms.Compose([\n",
        "                               transforms.Resize(image_size),\n",
        "                               transforms.CenterCrop(image_size),\n",
        "                               transforms.ToTensor(),\n",
        "                               transforms.Normalize((0.5, 0.5, 0.5), (0.5, 0.5, 0.5)),\n",
        "                           ]))\n",
        "# Create the dataloader\n",
        "dataloader = torch.utils.data.DataLoader(dataset, batch_size=batch_size,\n",
        "                                         shuffle=True, num_workers=2)\n",
        "\n",
        "# Decide which device we want to run on\n",
        "device = torch.device(\"cuda:0\" if (torch.cuda.is_available() and ngpu > 0) else \"cpu\")\n",
        "\n",
        "# Plot some training images\n",
        "real_batch = next(iter(dataloader))\n",
        "plt.figure(figsize=(8,8))\n",
        "plt.axis(\"off\")\n",
        "plt.title(\"Training Images\")\n",
        "plt.imshow(np.transpose(utils.make_grid(real_batch[0].to(device)[:64], padding=0, normalize=True).cpu(),(1,2,0)))"
      ]
    },
    {
      "cell_type": "code",
      "source": [
        "# Verify dataloader is properly created\n",
        "try:\n",
        "    batch = next(iter(dataloader))  # Attempt to fetch a batch\n",
        "    print(\"Dataloader is working properly.\")\n",
        "except NameError:\n",
        "    print(\"Dataloader is not defined. Please check your dataset and dataloader initialization.\")\n",
        "except Exception as e:\n",
        "    print(\"Error in dataloader:\", e)\n"
      ],
      "metadata": {
        "id": "GQ_27TB2kMW8"
      },
      "execution_count": null,
      "outputs": []
    },
    {
      "cell_type": "markdown",
      "metadata": {
        "id": "zJ3mD3mR7n_B"
      },
      "source": [
        "Implementation\n",
        "--------------\n",
        "\n",
        "\n",
        "\n",
        "\n"
      ]
    },
    {
      "cell_type": "code",
      "execution_count": null,
      "metadata": {
        "id": "TBK74QxW7n_C"
      },
      "outputs": [],
      "source": [
        "# custom weights initialization called on netG and netD\n",
        "def weights_init(m):\n",
        "    classname = m.__class__.__name__\n",
        "    if classname.find('Conv') != -1:\n",
        "        nn.init.normal_(m.weight.data, 0.0, 0.02)\n",
        "    elif classname.find('BatchNorm') != -1:\n",
        "        nn.init.normal_(m.weight.data, 1.0, 0.02)\n",
        "        nn.init.constant_(m.bias.data, 0)"
      ]
    },
    {
      "cell_type": "markdown",
      "metadata": {
        "id": "YJzqj_Cxcv2Z"
      },
      "source": [
        "# Generator and Discriminator Code\n",
        "\n",
        "### Weights_initialize\n",
        "Now, we can instantiate the generator and apply the `weights_init`\n",
        "function. Check out the printed model to see how the generator object is\n",
        "structured.\n"
      ]
    },
    {
      "cell_type": "code",
      "execution_count": null,
      "metadata": {
        "id": "PyoEh4SJcv2Z"
      },
      "outputs": [],
      "source": [
        "import torch\n",
        "from torch import nn\n",
        "\n",
        "# Batch size during training\n",
        "batch_size = 128\n",
        "\n",
        "# Number of channels in the training images. For color images this is 3\n",
        "nc = 3\n",
        "\n",
        "# Size of z latent vector (i.e. size of generator input)\n",
        "nz = 100\n",
        "\n",
        "# Base size of feature maps in generator\n",
        "ngf = 16\n",
        "\n",
        "# Base size of feature maps in discriminator\n",
        "ndf = 16\n",
        "\n",
        "class Generator(nn.Module):\n",
        "    def __init__(self, ngpu):\n",
        "        super(Generator, self).__init__()\n",
        "        self.ngpu = ngpu\n",
        "        self.main = nn.Sequential(\n",
        "            # input is Z, going into a convolution\n",
        "            nn.ConvTranspose2d(nz, ngf * 64, 4, 1, 0, bias=False),\n",
        "            nn.BatchNorm2d(ngf * 64),\n",
        "            nn.ReLU(True),\n",
        "            # state size. (ngf*64) x 4 x 4\n",
        "            nn.ConvTranspose2d(ngf * 64, ngf * 32, 4, 2, 1, bias=False),\n",
        "            nn.BatchNorm2d(ngf * 32),\n",
        "            nn.ReLU(True),\n",
        "            # state size. (ngf*32) x 8 x 8\n",
        "            nn.ConvTranspose2d(ngf * 32, ngf * 16, 4, 2, 1, bias=False),\n",
        "            nn.BatchNorm2d(ngf * 16),\n",
        "            nn.ReLU(True),\n",
        "            # state size. (ngf*16) x 16 x 16\n",
        "            nn.ConvTranspose2d(ngf * 16, ngf * 8, 4, 2, 1, bias=False),\n",
        "            nn.BatchNorm2d(ngf * 8),\n",
        "            nn.ReLU(True),\n",
        "            # state size. (ngf*8) x 32 x 32\n",
        "            nn.ConvTranspose2d(ngf * 8, ngf * 4, 4, 2, 1, bias=False),\n",
        "            nn.BatchNorm2d(ngf * 4),\n",
        "            nn.ReLU(True),\n",
        "            # state size. (ngf*4) x 64 x 64\n",
        "            nn.ConvTranspose2d(ngf * 4, ngf * 2, 4, 2, 1, bias=False),\n",
        "            nn.BatchNorm2d(ngf * 2),\n",
        "            nn.ReLU(True),\n",
        "            # state size. (ngf*2) x 128 x 128\n",
        "            nn.ConvTranspose2d(ngf * 2, ngf, 4, 2, 1, bias=False),\n",
        "            nn.BatchNorm2d(ngf),\n",
        "            nn.ReLU(True),\n",
        "            # state size. (ngf) x 256 x 256\n",
        "            nn.ConvTranspose2d( ngf, nc, 4, 2, 1, bias=False),\n",
        "            nn.Tanh()\n",
        "            # state size. (nc) x 512 x 512\n",
        "        )\n",
        "\n",
        "    def forward(self, x):\n",
        "        return self.main(x)\n",
        "\n",
        "class Discriminator(nn.Module):\n",
        "    def __init__(self, ngpu):\n",
        "        super(Discriminator, self).__init__()\n",
        "        self.ngpu = ngpu\n",
        "        self.main = nn.Sequential(\n",
        "            # input is (nc) x 512 x 512\n",
        "            nn.Conv2d(nc, ndf, 4, 2, 1, bias=False),\n",
        "            nn.LeakyReLU(0.2, inplace=True),\n",
        "            # state size. (ndf) x 256 x 256\n",
        "            nn.Conv2d(ndf, ndf * 2, 4, 2, 1, bias=False),\n",
        "            nn.BatchNorm2d(ndf * 2),\n",
        "            nn.LeakyReLU(0.2, inplace=True),\n",
        "            # state size. (ndf*2) x 128 x 128\n",
        "            nn.Conv2d(ndf * 2, ndf * 4, 4, 2, 1, bias=False),\n",
        "            nn.BatchNorm2d(ndf * 4),\n",
        "            nn.LeakyReLU(0.2, inplace=True),\n",
        "            # state size. (ndf*4) x 64 x 64\n",
        "            nn.Conv2d(ndf * 4, ndf * 8, 4, 2, 1, bias=False),\n",
        "            nn.BatchNorm2d(ndf * 8),\n",
        "            nn.LeakyReLU(0.2, inplace=True),\n",
        "            # state size. (ndf*8) x 32 x 32\n",
        "            nn.Conv2d(ndf * 8, ndf * 16, 4, 2, 1, bias=False),\n",
        "            nn.BatchNorm2d(ndf * 16),\n",
        "            nn.LeakyReLU(0.2, inplace=True),\n",
        "            # state size. (ndf*16) x 16 x 16\n",
        "            nn.Conv2d(ndf * 16, ndf * 32, 4, 2, 1, bias=False),\n",
        "            nn.BatchNorm2d(ndf * 32),\n",
        "            nn.LeakyReLU(0.2, inplace=True),\n",
        "            # state size. (ndf*32) x 8 x 8\n",
        "            nn.Conv2d(ndf * 32, ndf * 64, 4, 2, 1, bias=False),\n",
        "            nn.BatchNorm2d(ndf * 64),\n",
        "            nn.LeakyReLU(0.2, inplace=True),\n",
        "            # state size. (ndf*64) x 4 x 4\n",
        "            nn.Conv2d(ndf * 64, 1, 4, 1, 0, bias=False),\n",
        "            nn.Sigmoid()\n",
        "        )\n",
        "\n",
        "    def forward(self, x):\n",
        "        return self.main(x)\n",
        "\n",
        "netG = Generator(1)\n",
        "netD = Discriminator(1)\n",
        "\n",
        "inputG = torch.randn(batch_size, nz, 1, 1)\n",
        "inputD = torch.randn(batch_size, nc, 512, 512)\n",
        "#print(netG)\n",
        "print(inputD.shape)\n",
        "print(\"\\nOutputs size:\")\n",
        "print(netG(inputG).size())\n",
        "print(netD(inputD).size())"
      ]
    },
    {
      "cell_type": "code",
      "execution_count": null,
      "metadata": {
        "id": "tTg95fKxcv2a"
      },
      "outputs": [],
      "source": [
        "netG = Generator(ngpu).to(device)\n",
        "netD = Discriminator(ngpu).to(device)"
      ]
    },
    {
      "cell_type": "markdown",
      "metadata": {
        "id": "92D4Ojml7n_P"
      },
      "source": [
        "# Loss Functions and Optimizers\n",
        "\n",
        "\n",
        "\n",
        "\n",
        "\n"
      ]
    },
    {
      "cell_type": "code",
      "execution_count": null,
      "metadata": {
        "id": "JsDVeztz7n_Q"
      },
      "outputs": [],
      "source": [
        "# Initialize BCELoss function\n",
        "criterion = nn.BCELoss()\n",
        "\n",
        "# Create batch of latent vectors that we will use to visualize\n",
        "#  the progression of the generator\n",
        "fixed_noise = torch.randn(64, nz, 1, 1, device=device)\n",
        "\n",
        "# Establish convention for real and fake labels during training\n",
        "real_label = 1\n",
        "fake_label = 0\n",
        "\n",
        "# Setup Adam optimizers for both G and D\n",
        "optimizerD = optim.Adam(netD.parameters(), lr=lr, betas=(beta1, 0.999))\n",
        "optimizerG = optim.Adam(netG.parameters(), lr=lr, betas=(beta1, 0.999))"
      ]
    },
    {
      "cell_type": "code",
      "source": [
        "# Verify dataloader is properly created\n",
        "try:\n",
        "    batch = next(iter(dataloader))  # Attempt to fetch a batch\n",
        "    print(\"Dataloader is working properly.\")\n",
        "except NameError:\n",
        "    print(\"Dataloader is not defined. Please check your dataset and dataloader initialization.\")\n",
        "except Exception as e:\n",
        "    print(\"Error in dataloader:\", e)\n"
      ],
      "metadata": {
        "id": "UG8qsWs2j45W"
      },
      "execution_count": null,
      "outputs": []
    },
    {
      "cell_type": "markdown",
      "metadata": {
        "id": "0M_AmwSp7n_S"
      },
      "source": [
        "# Training\n",
        "\n",
        "\n",
        "\n"
      ]
    },
    {
      "cell_type": "code",
      "execution_count": null,
      "metadata": {
        "id": "HSdHt94N7n_S"
      },
      "outputs": [],
      "source": [
        "# Training Loop\n",
        "\n",
        "# Lists to keep track of progress\n",
        "img_list = []\n",
        "G_losses = []\n",
        "D_losses = []\n",
        "iters = 0\n",
        "num_epochs = 100\n",
        "print(\"Starting Training Loop...\")\n",
        "# For each epoch\n",
        "for epoch in range(num_epochs):\n",
        "    # For each batch in the dataloader\n",
        "    for i, data in enumerate(dataloader, 0):\n",
        "\n",
        "        ############################\n",
        "        # (1) Update D network: maximize log(D(x)) + log(1 - D(G(z)))\n",
        "        ###########################\n",
        "        ## Train with all-real batch\n",
        "        #print(epoch)\n",
        "\n",
        "        netD.zero_grad()\n",
        "        # Format batch\n",
        "        real_cpu = data[0].to(device)\n",
        "        b_size = real_cpu.size(0)\n",
        "        label = torch.full((b_size,), real_label, device=device)\n",
        "        # Forward pass real batch through D\n",
        "        #print(real_cpu.shape)\n",
        "\n",
        "        output = netD(real_cpu).view(-1)\n",
        "        # Calculate loss on all-real batc\n",
        "        output=output.float()\n",
        "        label =label.float()\n",
        "        #print(output.shape)\n",
        "        #print(label.shape)\n",
        "        errD_real = criterion(output, label)\n",
        "        # Calculate gradients for D in backward pass\n",
        "        errD_real.backward()\n",
        "        D_x = output.mean().item()\n",
        "\n",
        "        ## Train with all-fake batch\n",
        "        # Generate batch of latent vectors\n",
        "        noise = torch.randn(b_size, nz, 1, 1, device=device)\n",
        "        # Generate fake image batch with G\n",
        "        fake = netG(noise)\n",
        "        label.fill_(fake_label)\n",
        "        #print(fake.detach())\n",
        "        # Classify all fake batch with D\n",
        "        output = netD(fake.detach()).view(-1)\n",
        "        # Calculate D's loss on the all-fake batch\n",
        "        errD_fake = criterion(output,label)\n",
        "        # Calculate the gradients for this batch\n",
        "        errD_fake.backward()\n",
        "        D_G_z1 = output.mean().item()\n",
        "        # Add the gradients from the all-real and all-fake batches\n",
        "        errD = errD_real + errD_fake\n",
        "        # Update D\n",
        "        optimizerD.step()\n",
        "\n",
        "        ############################\n",
        "        # (2) Update G network: maximize log(D(G(z)))\n",
        "        ###########################\n",
        "        netG.zero_grad()\n",
        "        label.fill_(real_label)  # fake labels are real for generator cost\n",
        "        # Since we just updated D, perform another forward pass of all-fake batch through D\n",
        "        output = netD(fake).view(-1)\n",
        "        # Calculate G's loss based on this output\n",
        "        errG = criterion(output, label)\n",
        "        # Calculate gradients for G\n",
        "        errG.backward()\n",
        "        D_G_z2 = output.mean().item()\n",
        "        # Update G\n",
        "        optimizerG.step()\n",
        "\n",
        "        # Output training stats\n",
        "        if i % 1000 == 0:\n",
        "            print('[%d/%d][%d/%d]\\tLoss_D: %.4f\\tLoss_G: %.4f\\tD(x): %.4f\\tD(G(z)): %.4f / %.4f'\n",
        "                  % (epoch, num_epochs, i, len(dataloader),\n",
        "                     errD.item(), errG.item(), D_x, D_G_z1, D_G_z2))\n",
        "\n",
        "        # Save Losses for plotting later\n",
        "        G_losses.append(errG.item())\n",
        "        D_losses.append(errD.item())\n",
        "\n",
        "        # Check how the generator is doing by saving G's output on fixed_noise\n",
        "        if (iters % 100 == 0) or ((epoch == num_epochs-1) and (i == len(dataloader)-1)):\n",
        "            with torch.no_grad():\n",
        "                fake = netG(fixed_noise).detach().cpu()\n",
        "            img_list.append(utils.make_grid(fake, padding=0, normalize=True))\n",
        "\n",
        "        iters += 1"
      ]
    },
    {
      "cell_type": "markdown",
      "metadata": {
        "id": "UZ2QmfuZcv2c"
      },
      "source": [
        " with torch.no_grad():\n",
        "        fake = netG(fixed_noise).detach().cpu()\n",
        "        \n",
        "netG_load = torch.load( f'./model/GEN_{num_epochs}_{grade}.pth' )\n"
      ]
    },
    {
      "cell_type": "markdown",
      "metadata": {
        "id": "E25Aa6Ow7n_U"
      },
      "source": [
        "Results\n",
        "-------\n",
        "\n",
        "\n",
        "\n",
        "**Loss versus training iteration**\n",
        "\n",
        "\n",
        "\n"
      ]
    },
    {
      "cell_type": "code",
      "execution_count": null,
      "metadata": {
        "id": "i8jXTWdg7n_V"
      },
      "outputs": [],
      "source": [
        "import matplotlib.pyplot as plt\n",
        "\n",
        "plt.figure(figsize=(10,5))\n",
        "plt.title(\"Generator and Discriminator Loss During Training\")\n",
        "plt.plot(G_losses,label=\"G\")\n",
        "plt.plot(D_losses,label=\"D\")\n",
        "plt.xlabel(\"iterations\")\n",
        "plt.ylabel(\"Loss\")\n",
        "plt.legend()\n",
        "plt.show()"
      ]
    },
    {
      "cell_type": "markdown",
      "metadata": {
        "id": "FXdUySRf7n_Y"
      },
      "source": [
        "**Visualization of G’s progression**\n",
        "\n",
        "\n",
        "\n",
        "\n"
      ]
    },
    {
      "cell_type": "code",
      "metadata": {
        "id": "mT_ulrJf7n_Z"
      },
      "source": [
        "#%%capture\n",
        "fig = plt.figure(figsize=(8,8))\n",
        "plt.axis(\"off\")\n",
        "ims = [[plt.imshow(np.transpose(i,(1,2,0)), animated=True)] for i in img_list]\n",
        "ani = animation.ArtistAnimation(fig, ims, interval=1000, repeat_delay=1000, blit=True)\n",
        "\n",
        "HTML(ani.to_jshtml())"
      ],
      "execution_count": null,
      "outputs": []
    },
    {
      "cell_type": "markdown",
      "metadata": {
        "id": "VXMrEFm47n_d"
      },
      "source": [
        "# **Real Images vs. Fake Images**\n",
        "\n",
        "\n",
        "\n",
        "\n"
      ]
    },
    {
      "cell_type": "code",
      "execution_count": null,
      "metadata": {
        "id": "bn7D1Xod7n_e"
      },
      "outputs": [],
      "source": [
        "# Grab a batch of real images from the dataloader\n",
        "real_batch = next(iter(dataloader))\n",
        "resol = \"processed_512_\"\n",
        "#grade = 0\n",
        "# Plot the real images\n",
        "plt.figure(figsize=(15,15))\n",
        "plt.subplot(1,2,1)\n",
        "plt.axis(\"off\")\n",
        "plt.title(f\"Real Images{resol}{grade}\")\n",
        "img_real = np.transpose(utils.make_grid(real_batch[0].to(device)[:64], padding=0, normalize=True).cpu(),(1,2,0))\n",
        "plt.imshow(img_real)\n",
        "print(img_real.shape)\n",
        "\n",
        "# Plot the fake images from the last epoch\n",
        "plt.subplot(1,2,2)\n",
        "plt.axis(\"off\")\n",
        "plt.title(f\"Fake Images{resol}{grade}\")\n",
        "img_fake = np.transpose(img_list[-1],(1,2,0))\n",
        "print(img_fake.shape)\n",
        "plt.imshow(img_fake)\n",
        "\n",
        "plt.tight_layout()\n",
        "plt.savefig(f'GAN_image_knee_after{num_epochs}epoches{resol}{grade}{exp_date}.png')\n",
        "plt.show()\n",
        "\n"
      ]
    },
    {
      "cell_type": "code",
      "execution_count": null,
      "metadata": {
        "id": "hJvJiwOhcv2e"
      },
      "outputs": [],
      "source": [
        "\n",
        "torch.save(netG, f'./model/GEN_{num_epochs}_{grade}{exp_date}.pth')\n",
        "torch.save(netD, f'./model/Dis_{num_epochs}_{grade}{exp_date}.pth')"
      ]
    },
    {
      "cell_type": "code",
      "execution_count": null,
      "metadata": {
        "id": "fsOIIATrcv2e"
      },
      "outputs": [],
      "source": []
    },
    {
      "cell_type": "code",
      "execution_count": null,
      "metadata": {
        "id": "dWnKwY_Ucv2e"
      },
      "outputs": [],
      "source": [
        "arr = np.asarray(img_fake)\n",
        "arr = np.split(arr, 8)\n",
        "arr = np.array([np.split(x, 8, 1) for x in arr])\n",
        "import scipy.misc\n",
        "from PIL import Image\n",
        "n=1\n",
        "import matplotlib\n",
        "\n",
        "for i in range(8):\n",
        "    for j in range(8):\n",
        "        print(i,j)\n",
        "        img_array= arr[i][j]\n",
        "        #print(img_array.shape)\n",
        "        #im = Image.fromarray(img_array)\n",
        "        matplotlib.image.imsave(f'./Proc_result/{exp_date}fake_image{n}.png', img_array)\n",
        "\n",
        "        #im.save(f'./Proc_result/{grade}/fake_image{n}.png')\n",
        "        #plt.show()\n",
        "        #im = Image.fromarray(img_array)\n",
        "        #im.save(f'./result/fake_image{n}.png')\n",
        "        n +=1"
      ]
    },
    {
      "cell_type": "code",
      "execution_count": null,
      "metadata": {
        "id": "IhOfFb6Xcv2e"
      },
      "outputs": [],
      "source": []
    },
    {
      "cell_type": "code",
      "execution_count": null,
      "metadata": {
        "id": "ex9p4ETNcv2e"
      },
      "outputs": [],
      "source": []
    },
    {
      "cell_type": "code",
      "execution_count": null,
      "metadata": {
        "id": "m8RWEh9ucv2e"
      },
      "outputs": [],
      "source": [
        "print(1)"
      ]
    },
    {
      "cell_type": "code",
      "execution_count": null,
      "metadata": {
        "id": "J75O7Raccv2f"
      },
      "outputs": [],
      "source": []
    }
  ],
  "metadata": {
    "colab": {
      "name": "dcgan_faces_tutorial.ipynb",
      "provenance": [],
      "gpuType": "T4"
    },
    "kernelspec": {
      "display_name": "Python 3",
      "name": "python3"
    },
    "language_info": {
      "codemirror_mode": {
        "name": "ipython",
        "version": 3
      },
      "file_extension": ".py",
      "mimetype": "text/x-python",
      "name": "python",
      "nbconvert_exporter": "python",
      "pygments_lexer": "ipython3",
      "version": "3.8.5"
    },
    "accelerator": "GPU"
  },
  "nbformat": 4,
  "nbformat_minor": 0
}