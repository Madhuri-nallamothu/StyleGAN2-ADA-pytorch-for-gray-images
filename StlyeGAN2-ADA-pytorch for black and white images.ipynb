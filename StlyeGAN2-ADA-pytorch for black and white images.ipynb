{
 "cells": [
  {
   "cell_type": "markdown",
   "metadata": {},
   "source": [
    "# This is StlyeGAN2-ADA-pytorch for black and white images"
   ]
  },
  {
   "cell_type": "markdown",
   "metadata": {},
   "source": [
    "## Generate dataset  "
   ]
  },
  {
   "cell_type": "code",
   "execution_count": 120,
   "metadata": {},
   "outputs": [
    {
     "name": "stdout",
     "output_type": "stream",
     "text": [
      "  0%|                                                  | 0/4432 [00:00<?, ?it/s]{'width': 512, 'height': 512, 'channels': 1}\n",
      "100%|███████████████████████████████████████| 4432/4432 [01:08<00:00, 64.81it/s]\n"
     ]
    }
   ],
   "source": [
    "!python dataset_tool_gray.py --source= source images --dest= ./dataset_floder.zip --transform=center-crop --width=512 --height=512"
   ]
  },
  {
   "cell_type": "markdown",
   "metadata": {},
   "source": [
    "### examples"
   ]
  },
  {
   "cell_type": "code",
   "execution_count": null,
   "metadata": {},
   "outputs": [],
   "source": [
    "!python dataset_tool_gray.py --source=../DCGAN/Knee_GAN/new_images/1/1 --dest=./datasets/0323oiaclassify1.zip --transform=center-crop --width=512 --height=512\n"
   ]
  },
  {
   "cell_type": "markdown",
   "metadata": {},
   "source": [
    "## Training "
   ]
  },
  {
   "cell_type": "markdown",
   "metadata": {},
   "source": [
    "### --dry run is for check parameters"
   ]
  },
  {
   "cell_type": "code",
   "execution_count": null,
   "metadata": {},
   "outputs": [],
   "source": [
    "!python train.py --outdir=./outdir --data=dataset_floder.zip --gpus=2 --cfg=auto --kimg =1000 --dry-run\n",
    "!python train.py --outdir=./outdir--data= dataset_floder.zip --gpus=N_GPU --cfg=auto \n"
   ]
  },
  {
   "cell_type": "markdown",
   "metadata": {},
   "source": [
    "### examples"
   ]
  },
  {
   "cell_type": "code",
   "execution_count": null,
   "metadata": {
    "collapsed": true,
    "jupyter": {
     "outputs_hidden": true
    }
   },
   "outputs": [
    {
     "name": "stdout",
     "output_type": "stream",
     "text": [
      "\n",
      "Training options:\n",
      "{\n",
      "  \"num_gpus\": 2,\n",
      "  \"image_snapshot_ticks\": 50,\n",
      "  \"network_snapshot_ticks\": 50,\n",
      "  \"metrics\": [\n",
      "    \"fid50k_full\"\n",
      "  ],\n",
      "  \"random_seed\": 0,\n",
      "  \"training_set_kwargs\": {\n",
      "    \"class_name\": \"training.dataset.ImageFolderDataset\",\n",
      "    \"path\": \"./datasets/GAN_1000.zip\",\n",
      "    \"use_labels\": false,\n",
      "    \"max_size\": 1000,\n",
      "    \"xflip\": false,\n",
      "    \"resolution\": 512\n",
      "  },\n",
      "  \"data_loader_kwargs\": {\n",
      "    \"pin_memory\": true,\n",
      "    \"num_workers\": 3,\n",
      "    \"prefetch_factor\": 2\n",
      "  },\n",
      "  \"G_kwargs\": {\n",
      "    \"class_name\": \"training.networks.Generator\",\n",
      "    \"z_dim\": 512,\n",
      "    \"w_dim\": 512,\n",
      "    \"mapping_kwargs\": {\n",
      "      \"num_layers\": 2\n",
      "    },\n",
      "    \"synthesis_kwargs\": {\n",
      "      \"channel_base\": 32768,\n",
      "      \"channel_max\": 512,\n",
      "      \"num_fp16_res\": 4,\n",
      "      \"conv_clamp\": 256\n",
      "    }\n",
      "  },\n",
      "  \"D_kwargs\": {\n",
      "    \"class_name\": \"training.networks.Discriminator\",\n",
      "    \"block_kwargs\": {},\n",
      "    \"mapping_kwargs\": {},\n",
      "    \"epilogue_kwargs\": {\n",
      "      \"mbstd_group_size\": 4\n",
      "    },\n",
      "    \"channel_base\": 32768,\n",
      "    \"channel_max\": 512,\n",
      "    \"num_fp16_res\": 4,\n",
      "    \"conv_clamp\": 256\n",
      "  },\n",
      "  \"G_opt_kwargs\": {\n",
      "    \"class_name\": \"torch.optim.Adam\",\n",
      "    \"lr\": 0.0025,\n",
      "    \"betas\": [\n",
      "      0,\n",
      "      0.99\n",
      "    ],\n",
      "    \"eps\": 1e-08\n",
      "  },\n",
      "  \"D_opt_kwargs\": {\n",
      "    \"class_name\": \"torch.optim.Adam\",\n",
      "    \"lr\": 0.0025,\n",
      "    \"betas\": [\n",
      "      0,\n",
      "      0.99\n",
      "    ],\n",
      "    \"eps\": 1e-08\n",
      "  },\n",
      "  \"loss_kwargs\": {\n",
      "    \"class_name\": \"training.loss.StyleGAN2Loss\",\n",
      "    \"r1_gamma\": 3.2768\n",
      "  },\n",
      "  \"total_kimg\": 1000,\n",
      "  \"batch_size\": 16,\n",
      "  \"batch_gpu\": 8,\n",
      "  \"ema_kimg\": 5.0,\n",
      "  \"ema_rampup\": 0.05,\n",
      "  \"ada_target\": 0.6,\n",
      "  \"augment_kwargs\": {\n",
      "    \"class_name\": \"training.augment.AugmentPipe\",\n",
      "    \"xflip\": 1,\n",
      "    \"rotate90\": 1,\n",
      "    \"xint\": 1,\n",
      "    \"scale\": 1,\n",
      "    \"rotate\": 1,\n",
      "    \"aniso\": 1,\n",
      "    \"xfrac\": 1,\n",
      "    \"brightness\": 1,\n",
      "    \"contrast\": 1,\n",
      "    \"lumaflip\": 1,\n",
      "    \"hue\": 1,\n",
      "    \"saturation\": 1\n",
      "  },\n",
      "  \"run_dir\": \"./training-runs/00011-GAN_1000-auto2\"\n",
      "}\n",
      "\n",
      "Output directory:   ./training-runs/00011-GAN_1000-auto2\n",
      "Training data:      ./datasets/GAN_1000.zip\n",
      "Training duration:  1000 kimg\n",
      "Number of GPUs:     2\n",
      "Number of images:   1000\n",
      "Image resolution:   512\n",
      "Conditional model:  False\n",
      "Dataset x-flips:    False\n",
      "\n",
      "Creating output directory...\n",
      "Launching processes...\n",
      "Loading training set...\n",
      "\n",
      "Num images:  1000\n",
      "Image shape: [1, 512, 512]\n",
      "Label shape: [0]\n",
      "\n",
      "Constructing networks...\n",
      "Setting up PyTorch plugin \"bias_act_plugin\"... Done.\n",
      "Setting up PyTorch plugin \"upfirdn2d_plugin\"... Done.\n",
      "\n",
      "Generator             Parameters  Buffers  Output shape        Datatype\n",
      "---                   ---         ---      ---                 ---     \n",
      "mapping.fc0           262656      -        [8, 512]            float32 \n",
      "mapping.fc1           262656      -        [8, 512]            float32 \n",
      "mapping               -           512      [8, 16, 512]        float32 \n",
      "synthesis.b4.conv1    2622465     32       [8, 512, 4, 4]      float32 \n",
      "synthesis.b4.torgb    263169      -        [8, 1, 4, 4]        float32 \n",
      "synthesis.b4:0        8192        16       [8, 512, 4, 4]      float32 \n",
      "synthesis.b4:1        -           -        [8, 512, 4, 4]      float32 \n",
      "synthesis.b8.conv0    2622465     80       [8, 512, 8, 8]      float32 \n",
      "synthesis.b8.conv1    2622465     80       [8, 512, 8, 8]      float32 \n",
      "synthesis.b8.torgb    263169      -        [8, 1, 8, 8]        float32 \n",
      "synthesis.b8:0        -           16       [8, 512, 8, 8]      float32 \n",
      "synthesis.b8:1        -           -        [8, 512, 8, 8]      float32 \n",
      "synthesis.b16.conv0   2622465     272      [8, 512, 16, 16]    float32 \n",
      "synthesis.b16.conv1   2622465     272      [8, 512, 16, 16]    float32 \n",
      "synthesis.b16.torgb   263169      -        [8, 1, 16, 16]      float32 \n",
      "synthesis.b16:0       -           16       [8, 512, 16, 16]    float32 \n",
      "synthesis.b16:1       -           -        [8, 512, 16, 16]    float32 \n",
      "synthesis.b32.conv0   2622465     1040     [8, 512, 32, 32]    float32 \n",
      "synthesis.b32.conv1   2622465     1040     [8, 512, 32, 32]    float32 \n",
      "synthesis.b32.torgb   263169      -        [8, 1, 32, 32]      float32 \n",
      "synthesis.b32:0       -           16       [8, 512, 32, 32]    float32 \n",
      "synthesis.b32:1       -           -        [8, 512, 32, 32]    float32 \n",
      "synthesis.b64.conv0   2622465     4112     [8, 512, 64, 64]    float16 \n",
      "synthesis.b64.conv1   2622465     4112     [8, 512, 64, 64]    float16 \n",
      "synthesis.b64.torgb   263169      -        [8, 1, 64, 64]      float16 \n",
      "synthesis.b64:0       -           16       [8, 512, 64, 64]    float16 \n",
      "synthesis.b64:1       -           -        [8, 512, 64, 64]    float32 \n",
      "synthesis.b128.conv0  1442561     16400    [8, 256, 128, 128]  float16 \n",
      "synthesis.b128.conv1  721409      16400    [8, 256, 128, 128]  float16 \n",
      "synthesis.b128.torgb  131585      -        [8, 1, 128, 128]    float16 \n",
      "synthesis.b128:0      -           16       [8, 256, 128, 128]  float16 \n",
      "synthesis.b128:1      -           -        [8, 256, 128, 128]  float32 \n",
      "synthesis.b256.conv0  426369      65552    [8, 128, 256, 256]  float16 \n",
      "synthesis.b256.conv1  213249      65552    [8, 128, 256, 256]  float16 \n",
      "synthesis.b256.torgb  65793       -        [8, 1, 256, 256]    float16 \n",
      "synthesis.b256:0      -           16       [8, 128, 256, 256]  float16 \n",
      "synthesis.b256:1      -           -        [8, 128, 256, 256]  float32 \n",
      "synthesis.b512.conv0  139457      262160   [8, 64, 512, 512]   float16 \n",
      "synthesis.b512.conv1  69761       262160   [8, 64, 512, 512]   float16 \n",
      "synthesis.b512.torgb  32897       -        [8, 1, 512, 512]    float16 \n",
      "synthesis.b512:0      -           16       [8, 64, 512, 512]   float16 \n",
      "synthesis.b512:1      -           -        [8, 64, 512, 512]   float32 \n",
      "---                   ---         ---      ---                 ---     \n",
      "Total                 28694615    699904   -                   -       \n",
      "\n",
      "\n",
      "Discriminator  Parameters  Buffers  Output shape        Datatype\n",
      "---            ---         ---      ---                 ---     \n",
      "b512.fromrgb   128         16       [8, 64, 512, 512]   float16 \n",
      "b512.skip      8192        16       [8, 128, 256, 256]  float16 \n",
      "b512.conv0     36928       16       [8, 64, 512, 512]   float16 \n",
      "b512.conv1     73856       16       [8, 128, 256, 256]  float16 \n",
      "b512           -           16       [8, 128, 256, 256]  float16 \n",
      "b256.skip      32768       16       [8, 256, 128, 128]  float16 \n",
      "b256.conv0     147584      16       [8, 128, 256, 256]  float16 \n",
      "b256.conv1     295168      16       [8, 256, 128, 128]  float16 \n",
      "b256           -           16       [8, 256, 128, 128]  float16 \n",
      "b128.skip      131072      16       [8, 512, 64, 64]    float16 \n",
      "b128.conv0     590080      16       [8, 256, 128, 128]  float16 \n",
      "b128.conv1     1180160     16       [8, 512, 64, 64]    float16 \n",
      "b128           -           16       [8, 512, 64, 64]    float16 \n",
      "b64.skip       262144      16       [8, 512, 32, 32]    float16 \n",
      "b64.conv0      2359808     16       [8, 512, 64, 64]    float16 \n",
      "b64.conv1      2359808     16       [8, 512, 32, 32]    float16 \n",
      "b64            -           16       [8, 512, 32, 32]    float16 \n",
      "b32.skip       262144      16       [8, 512, 16, 16]    float32 \n",
      "b32.conv0      2359808     16       [8, 512, 32, 32]    float32 \n",
      "b32.conv1      2359808     16       [8, 512, 16, 16]    float32 \n",
      "b32            -           16       [8, 512, 16, 16]    float32 \n",
      "b16.skip       262144      16       [8, 512, 8, 8]      float32 \n",
      "b16.conv0      2359808     16       [8, 512, 16, 16]    float32 \n",
      "b16.conv1      2359808     16       [8, 512, 8, 8]      float32 \n",
      "b16            -           16       [8, 512, 8, 8]      float32 \n",
      "b8.skip        262144      16       [8, 512, 4, 4]      float32 \n",
      "b8.conv0       2359808     16       [8, 512, 8, 8]      float32 \n",
      "b8.conv1       2359808     16       [8, 512, 4, 4]      float32 \n",
      "b8             -           16       [8, 512, 4, 4]      float32 \n",
      "b4.mbstd       -           -        [8, 513, 4, 4]      float32 \n",
      "b4.conv        2364416     16       [8, 512, 4, 4]      float32 \n",
      "b4.fc          4194816     -        [8, 512]            float32 \n",
      "b4.out         513         -        [8, 1]              float32 \n",
      "---            ---         ---      ---                 ---     \n",
      "Total          28982721    480      -                   -       \n",
      "\n",
      "Setting up augmentation...\n",
      "Distributing across 2 GPUs...\n",
      "Setting up training phases...\n",
      "Exporting sample images...\n",
      "Initializing logs...\n",
      "2021-03-08 18:04:22.313996: I tensorflow/stream_executor/platform/default/dso_loader.cc:49] Successfully opened dynamic library libcudart.so.11.0\n",
      "Training for 1000 kimg...\n",
      "\n",
      "tick 0     kimg 0.0      time 19s          sec/tick 5.6     sec/kimg 353.01  maintenance 12.9   cpumem 4.81   gpumem 10.42  augment 0.000\n",
      "Evaluating metrics...\n",
      "{\"results\": {\"fid50k_full\": 383.61116058275707}, \"metric\": \"fid50k_full\", \"total_time\": 342.12948179244995, \"total_time_str\": \"5m 42s\", \"num_gpus\": 2, \"snapshot_pkl\": \"network-snapshot-000000.pkl\", \"timestamp\": 1615194616.0246882}\n",
      "tick 1     kimg 4.0      time 10m 35s      sec/tick 269.5   sec/kimg 67.36   maintenance 346.7  cpumem 5.00   gpumem 7.67   augment 0.004\n",
    
     ]
    }
   ],
   "source": [
    "!python train.py --outdir=./training-runs --data=./datasets/0323oiaclassify1.zip  --gpus=2 --cfg=auto \n"
   ]
  },
  {
   "cell_type": "markdown",
   "metadata": {},
   "source": [
    "## Generate images"
   ]
  },
  {
   "cell_type": "code",
   "execution_count": null,
   "metadata": {},
   "outputs": [],
   "source": [
    "!python generate_gray.py --outdir=./output_folder --seeds=number of seeds --network= path to netwrok "
   ]
  },
  {
   "cell_type": "markdown",
   "metadata": {},
   "source": [
    "### examples"
   ]
  },
  {
   "cell_type": "code",
   "execution_count": 2,
   "metadata": {
    "collapsed": true,
    "jupyter": {
     "outputs_hidden": true
    }
   },
   "outputs": [
    {
     "name": "stdout",
     "output_type": "stream",
     "text": [
      "Loading networks from \"./training-runs/00000-sunh-auto2-kimg1000/network-snapshot-000800.pkl\"...\n",
      "Generating image for seed 0 (0/1001) ...\n",
      "Setting up PyTorch plugin \"bias_act_plugin\"... Done.\n",
      "Setting up PyTorch plugin \"upfirdn2d_plugin\"... Done.\n",
      "torch.Size([512, 512])\n",
      "Generating image for seed 1 (1/1001) ...\n",
      
     ]
    }
   ],
   "source": [
    "!python generate_gray.py --outdir=./output --seeds=0-1000 --network=./training-runs/00000-sunh-auto2-kimg1000/network-snapshot-000800.pkl"
   ]
  },
  {
   "cell_type": "markdown",
   "metadata": {},
   "source": [
    "## Calc_metrics"
   ]
  },
  {
   "cell_type": "code",
   "execution_count": 2,
   "metadata": {
    "collapsed": true,
    "jupyter": {
     "outputs_hidden": true
    }
   },
   "outputs": [
    {
     "name": "stdout",
     "output_type": "stream",
     "text": [
      "Loading network from \"./training-runs/00000-sunh-auto2-kimg1000/network-snapshot-001000.pkl\"...\n",
      "Dataset options:\n",
      "{\n",
      "  \"class_name\": \"training.dataset.ImageFolderDataset\",\n",
      "  \"path\": \"./datasets/sunh.zip\",\n",
      "  \"resolution\": 512,\n",
      "  \"use_labels\": false,\n",
      "  \"xflip\": true\n",
      "}\n",
      "Launching processes...\n",
      "Setting up PyTorch plugin \"bias_act_plugin\"... Done.\n",
      "Setting up PyTorch plugin \"upfirdn2d_plugin\"... Done.\n",
      "\n",
      "Generator             Parameters  Buffers  Output shape        Datatype\n",
      "---                   ---         ---      ---                 ---     \n",
      "mapping.fc0           262656      -        [1, 512]            float32 \n",
      "mapping.fc1           262656      -        [1, 512]            float32 \n",
      "mapping               -           512      [1, 16, 512]        float32 \n",
      "synthesis.b4.conv1    2622465     32       [1, 512, 4, 4]      float32 \n",
      "synthesis.b4.torgb    263169      -        [1, 1, 4, 4]        float32 \n",
      "synthesis.b4:0        8192        16       [1, 512, 4, 4]      float32 \n",
      "synthesis.b4:1        -           -        [1, 512, 4, 4]      float32 \n",
      "synthesis.b8.conv0    2622465     80       [1, 512, 8, 8]      float32 \n",
      "synthesis.b8.conv1    2622465     80       [1, 512, 8, 8]      float32 \n",
      "synthesis.b8.torgb    263169      -        [1, 1, 8, 8]        float32 \n",
      "synthesis.b8:0        -           16       [1, 512, 8, 8]      float32 \n",
      "synthesis.b8:1        -           -        [1, 512, 8, 8]      float32 \n",
      "synthesis.b16.conv0   2622465     272      [1, 512, 16, 16]    float32 \n",
      "synthesis.b16.conv1   2622465     272      [1, 512, 16, 16]    float32 \n",
      "synthesis.b16.torgb   263169      -        [1, 1, 16, 16]      float32 \n",
      "synthesis.b16:0       -           16       [1, 512, 16, 16]    float32 \n",
      "synthesis.b16:1       -           -        [1, 512, 16, 16]    float32 \n",
      "synthesis.b32.conv0   2622465     1040     [1, 512, 32, 32]    float32 \n",
      "synthesis.b32.conv1   2622465     1040     [1, 512, 32, 32]    float32 \n",
      "synthesis.b32.torgb   263169      -        [1, 1, 32, 32]      float32 \n",
      "synthesis.b32:0       -           16       [1, 512, 32, 32]    float32 \n",
      "synthesis.b32:1       -           -        [1, 512, 32, 32]    float32 \n",
      "synthesis.b64.conv0   2622465     4112     [1, 512, 64, 64]    float16 \n",
      "synthesis.b64.conv1   2622465     4112     [1, 512, 64, 64]    float16 \n",
      "synthesis.b64.torgb   263169      -        [1, 1, 64, 64]      float16 \n",
      "synthesis.b64:0       -           16       [1, 512, 64, 64]    float16 \n",
      "synthesis.b64:1       -           -        [1, 512, 64, 64]    float32 \n",
      "synthesis.b128.conv0  1442561     16400    [1, 256, 128, 128]  float16 \n",
      "synthesis.b128.conv1  721409      16400    [1, 256, 128, 128]  float16 \n",
      "synthesis.b128.torgb  131585      -        [1, 1, 128, 128]    float16 \n",
      "synthesis.b128:0      -           16       [1, 256, 128, 128]  float16 \n",
      "synthesis.b128:1      -           -        [1, 256, 128, 128]  float32 \n",
      "synthesis.b256.conv0  426369      65552    [1, 128, 256, 256]  float16 \n",
      "synthesis.b256.conv1  213249      65552    [1, 128, 256, 256]  float16 \n",
      "synthesis.b256.torgb  65793       -        [1, 1, 256, 256]    float16 \n",
      "synthesis.b256:0      -           16       [1, 128, 256, 256]  float16 \n",
      "synthesis.b256:1      -           -        [1, 128, 256, 256]  float32 \n",
      "synthesis.b512.conv0  139457      262160   [1, 64, 512, 512]   float16 \n",
      "synthesis.b512.conv1  69761       262160   [1, 64, 512, 512]   float16 \n",
      "synthesis.b512.torgb  32897       -        [1, 1, 512, 512]    float16 \n",
      "synthesis.b512:0      -           16       [1, 64, 512, 512]   float16 \n",
      "synthesis.b512:1      -           -        [1, 64, 512, 512]   float32 \n",
      "---                   ---         ---      ---                 ---     \n",
      "Total                 28694615    699904   -                   -       \n",
      "\n",
      "Calculating fid50k_full...\n",
      "dataset features    items 1024    time 9s           ms/item 8.36\n",
      
      "{\"results\": {\"fid50k_full\": 3.1131835824862097}, \"metric\": \"fid50k_full\", \"total_time\": 1096.7636423110962, \"total_time_str\": \"18m 17s\", \"num_gpus\": 1, \"snapshot_pkl\": \"network-snapshot-001000.pkl\", \"timestamp\": 1612753167.062439}\n",
      "\n",
      "Exiting...\n"
     ]
    }
   ],
   "source": [
    "!python calc_metrics.py --metrics=fid50k_full --data=dataset_floder.zip --mirror=1 --network= path to netwrok "
   ]
  },
  {
   "cell_type": "markdown",
   "metadata": {},
   "source": [
    "# Stlyle mixing "
   ]
  },
  {
   "cell_type": "code",
   "execution_count": 77,
   "metadata": {},
   "outputs": [
    {
     "name": "stdout",
     "output_type": "stream",
     "text": [
      "Loading networks from \"./training-runs/00000-sunh-auto2-kimg1000/network-snapshot-000800.pkl\"...\n",
      "Generating W vectors...\n",
      "Setting up PyTorch plugin \"bias_act_plugin\"... Done.\n",
      "Generating images...\n",
      "Setting up PyTorch plugin \"upfirdn2d_plugin\"... Done.\n",
      "Generating style-mixed images...\n",
      "Saving images...\n",
      "Saving image grid...\n"
     ]
    }
   ],
   "source": [
    "!python style_mixing_gray.py --outdir=stylemix --rows=1,6,10,11,13,22,25,34 --cols=37,39,38,35, 29 --network= path to netwrok "
   ]
  },
  {
   "cell_type": "markdown",
   "metadata": {},
   "source": [
    "# Projecter\n",
    "\n",
    "Projecting images to latent space\n",
    "\n"
   ]
  },
  {
   "cell_type": "code",
   "execution_count": null,
   "metadata": {},
   "outputs": [],
   "source": [
    "!python projector_gray.py --outdir=out --target=~/mytargetimg.png --network= path to netwrok "
   ]
  },
  {
   "cell_type": "markdown",
   "metadata": {},
   "source": [
    "# Make zip file"
   ]
  },
  {
   "cell_type": "code",
   "execution_count": 1,
   "metadata": {},
   "outputs": [],
   "source": [
    "import os\n",
    "import zipfile\n",
    "\n",
    "def zipdir(path, ziph):\n",
    "    # ziph is zipfile handle\n",
    "    for root, dirs, files in os.walk(path):\n",
    "        for file in files:\n",
    "            ziph.write(os.path.join(root, file), os.path.relpath(os.path.join(root, file), os.path.join(path, '..')))\n",
    "\n",
    "if __name__ == '__main__':\n",
    "    zipf = zipfile.ZipFile('0331_class4_generated.zip', 'w', zipfile.ZIP_DEFLATED)\n",
    "    zipdir('./out0330', zipf)\n",
    "    zipf.close()"
   ]
  },
  {
   "cell_type": "code",
   "execution_count": null,
   "metadata": {},
   "outputs": [],
   "source": []
  }
 ],
 "metadata": {
  "kernelspec": {
   "display_name": "Python 3",
   "language": "python",
   "name": "python3"
  },
  "language_info": {
   "codemirror_mode": {
    "name": "ipython",
    "version": 3
   },
   "file_extension": ".py",
   "mimetype": "text/x-python",
   "name": "python",
   "nbconvert_exporter": "python",
   "pygments_lexer": "ipython3",
   "version": "3.8.3"
  }
 },
 "nbformat": 4,
 "nbformat_minor": 4
}
