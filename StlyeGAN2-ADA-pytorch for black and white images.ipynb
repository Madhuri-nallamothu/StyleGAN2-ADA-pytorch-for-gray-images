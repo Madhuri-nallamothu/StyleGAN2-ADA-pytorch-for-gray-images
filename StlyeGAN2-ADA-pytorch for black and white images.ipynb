{
  "cells": [
    {
      "cell_type": "markdown",
      "metadata": {
        "id": "eeTGOjTaJuJp"
      },
      "source": [
        "# This is StlyeGAN2-ADA-pytorch for gray images"
      ]
    },
    {
      "cell_type": "markdown",
      "metadata": {
        "id": "HAhIru_0JuJt"
      },
      "source": [
        "## Generate dataset\n",
        "I used more than few thounds images to generate network"
      ]
    },
    {
      "cell_type": "code",
      "execution_count": 1,
      "metadata": {
        "id": "0FxgX6yeJuJ5",
        "outputId": "4ee77759-a1d3-4b8e-eff9-4d429344afa1",
        "colab": {
          "base_uri": "https://localhost:8080/"
        }
      },
      "outputs": [
        {
          "output_type": "stream",
          "name": "stdout",
          "text": [
            "python3: can't open file '/content/dataset_tool_gray.py': [Errno 2] No such file or directory\n"
          ]
        }
      ],
      "source": [
        "!python dataset_tool_gray.py --source= source images --dest= ./dataset_floder.zip --transform=center-crop --width=512 --height=512"
      ]
    },
    {
      "cell_type": "markdown",
      "metadata": {
        "id": "w0g4mZwvJuKS"
      },
      "source": [
        "### examples"
      ]
    },
    {
      "cell_type": "code",
      "execution_count": 2,
      "metadata": {
        "id": "u4PePzaCJuKT",
        "outputId": "d4e557b1-c393-4b9c-d74a-45c856097343",
        "colab": {
          "base_uri": "https://localhost:8080/"
        }
      },
      "outputs": [
        {
          "output_type": "stream",
          "name": "stdout",
          "text": [
            "python3: can't open file '/content/dataset_tool_gray.py': [Errno 2] No such file or directory\n"
          ]
        }
      ],
      "source": [
        "!python dataset_tool_gray.py --source=../DCGAN/Knee_GAN/new_images/1/1 --dest=./datasets/0323oiaclassify1.zip --transform=center-crop --width=512 --height=512\n"
      ]
    },
    {
      "cell_type": "markdown",
      "metadata": {
        "id": "yJg96713JuKU"
      },
      "source": [
        "## Training"
      ]
    },
    {
      "cell_type": "markdown",
      "metadata": {
        "id": "_GWsNBg3JuKZ"
      },
      "source": [
        "### --dry run is for check parameters"
      ]
    },
    {
      "cell_type": "code",
      "execution_count": 3,
      "metadata": {
        "id": "NyTx4nm1JuKa",
        "outputId": "0e65d402-b47c-43a3-e862-ee08895cf2f8",
        "colab": {
          "base_uri": "https://localhost:8080/"
        }
      },
      "outputs": [
        {
          "output_type": "stream",
          "name": "stdout",
          "text": [
            "python3: can't open file '/content/train.py': [Errno 2] No such file or directory\n",
            "python3: can't open file '/content/train.py': [Errno 2] No such file or directory\n"
          ]
        }
      ],
      "source": [
        "!python train.py --outdir=./outdir --data=dataset_floder.zip --gpus=2 --cfg=auto --kimg =1000 --dry-run\n",
        "!python train.py --outdir=./outdir--data= dataset_floder.zip --gpus=N_GPU --cfg=auto\n"
      ]
    },
    {
      "cell_type": "markdown",
      "metadata": {
        "id": "AgLN7buFJuKa"
      },
      "source": [
        "### examples"
      ]
    },
    {
      "cell_type": "code",
      "execution_count": 4,
      "metadata": {
        "id": "CcXBHSfYJuKa",
        "outputId": "77bfdd6d-9fff-43c7-839c-ee2c13518c49",
        "colab": {
          "base_uri": "https://localhost:8080/"
        }
      },
      "outputs": [
        {
          "output_type": "stream",
          "name": "stdout",
          "text": [
            "python3: can't open file '/content/train.py': [Errno 2] No such file or directory\n"
          ]
        }
      ],
      "source": [
        "!python train.py --outdir=./training-runs --data=./datasets/0323oiaclassify1.zip  --gpus=2 --cfg=auto\n"
      ]
    },
    {
      "cell_type": "markdown",
      "metadata": {
        "id": "AHBfDgShJuKh"
      },
      "source": [
        "## Generate images"
      ]
    },
    {
      "cell_type": "code",
      "execution_count": 5,
      "metadata": {
        "id": "2ARdl4v8JuKh",
        "outputId": "4bdc1784-209d-4dc4-9708-a672e0b9139d",
        "colab": {
          "base_uri": "https://localhost:8080/"
        }
      },
      "outputs": [
        {
          "output_type": "stream",
          "name": "stdout",
          "text": [
            "python3: can't open file '/content/generate_gray.py': [Errno 2] No such file or directory\n"
          ]
        }
      ],
      "source": [
        "!python generate_gray.py --outdir=./output_folder --seeds=number of seeds --network= path to netwrok"
      ]
    },
    {
      "cell_type": "markdown",
      "metadata": {
        "id": "xtbSagCEJuKi"
      },
      "source": [
        "### examples"
      ]
    },
    {
      "cell_type": "code",
      "execution_count": 6,
      "metadata": {
        "id": "4dcfjGRxJuKj",
        "outputId": "50fed0a0-1786-4da6-acd8-53ea868951ee",
        "colab": {
          "base_uri": "https://localhost:8080/"
        }
      },
      "outputs": [
        {
          "output_type": "stream",
          "name": "stdout",
          "text": [
            "python3: can't open file '/content/generate_gray.py': [Errno 2] No such file or directory\n"
          ]
        }
      ],
      "source": [
        "!python generate_gray.py --outdir=./output --seeds=0-1000 --network=./training-runs/00000-sunh-auto2-kimg1000/network-snapshot-000800.pkl"
      ]
    },
    {
      "cell_type": "markdown",
      "metadata": {
        "id": "m6SHkeXwJuKj"
      },
      "source": [
        "## Calc_metrics"
      ]
    },
    {
      "cell_type": "code",
      "execution_count": 7,
      "metadata": {
        "collapsed": true,
        "jupyter": {
          "outputs_hidden": true
        },
        "id": "3OARL4JUJuKp",
        "outputId": "9f006d4b-b74f-45d8-dced-73fb7418bf4c",
        "colab": {
          "base_uri": "https://localhost:8080/"
        }
      },
      "outputs": [
        {
          "output_type": "stream",
          "name": "stdout",
          "text": [
            "python3: can't open file '/content/calc_metrics.py': [Errno 2] No such file or directory\n"
          ]
        }
      ],
      "source": [
        "!python calc_metrics.py --metrics=fid50k_full --data=dataset_floder.zip --mirror=1 --network= path to netwrok"
      ]
    },
    {
      "cell_type": "markdown",
      "metadata": {
        "id": "Gu75upcEJuKp"
      },
      "source": [
        "# Stlyle mixing"
      ]
    },
    {
      "cell_type": "code",
      "execution_count": 8,
      "metadata": {
        "id": "fIs368BXJuKp",
        "outputId": "2496705e-a82a-4397-d6c3-ff919cdfb137",
        "colab": {
          "base_uri": "https://localhost:8080/"
        }
      },
      "outputs": [
        {
          "output_type": "stream",
          "name": "stdout",
          "text": [
            "python3: can't open file '/content/style_mixing_gray.py': [Errno 2] No such file or directory\n"
          ]
        }
      ],
      "source": [
        "!python style_mixing_gray.py --outdir=stylemix --rows=1,6,10,11,13,22,25,34 --cols=37,39,38,35, 29 --network= path to netwrok"
      ]
    },
    {
      "cell_type": "markdown",
      "metadata": {
        "id": "4Uhdld6uJuKv"
      },
      "source": [
        "# Projecter\n",
        "\n",
        "Projecting images to latent space\n",
        "\n"
      ]
    },
    {
      "cell_type": "code",
      "execution_count": 9,
      "metadata": {
        "id": "KtXxTYEBJuKv",
        "outputId": "39e0a384-f9b0-45b7-f0e7-785e2711d014",
        "colab": {
          "base_uri": "https://localhost:8080/"
        }
      },
      "outputs": [
        {
          "output_type": "stream",
          "name": "stdout",
          "text": [
            "python3: can't open file '/content/projector_gray.py': [Errno 2] No such file or directory\n"
          ]
        }
      ],
      "source": [
        "!python projector_gray.py --outdir=out --target=~/mytargetimg.png --network= path to netwrok"
      ]
    },
    {
      "cell_type": "markdown",
      "metadata": {
        "id": "BL8OkmMYJuKv"
      },
      "source": [
        "# Make zip file"
      ]
    },
    {
      "cell_type": "code",
      "execution_count": 10,
      "metadata": {
        "id": "OuA8bi9oJuKw"
      },
      "outputs": [],
      "source": [
        "import os\n",
        "import zipfile\n",
        "\n",
        "def zipdir(path, ziph):\n",
        "    # ziph is zipfile handle\n",
        "    for root, dirs, files in os.walk(path):\n",
        "        for file in files:\n",
        "            ziph.write(os.path.join(root, file), os.path.relpath(os.path.join(root, file), os.path.join(path, '..')))\n",
        "\n",
        "if __name__ == '__main__':\n",
        "    zipf = zipfile.ZipFile('0331_class4_generated.zip', 'w', zipfile.ZIP_DEFLATED)\n",
        "    zipdir('./out0330', zipf)\n",
        "    zipf.close()"
      ]
    },
    {
      "cell_type": "code",
      "execution_count": 10,
      "metadata": {
        "id": "en2pK4p-JuK4"
      },
      "outputs": [],
      "source": []
    }
  ],
  "metadata": {
    "kernelspec": {
      "display_name": "Python 3",
      "language": "python",
      "name": "python3"
    },
    "language_info": {
      "codemirror_mode": {
        "name": "ipython",
        "version": 3
      },
      "file_extension": ".py",
      "mimetype": "text/x-python",
      "name": "python",
      "nbconvert_exporter": "python",
      "pygments_lexer": "ipython3",
      "version": "3.8.3"
    },
    "colab": {
      "provenance": []
    }
  },
  "nbformat": 4,
  "nbformat_minor": 0
}